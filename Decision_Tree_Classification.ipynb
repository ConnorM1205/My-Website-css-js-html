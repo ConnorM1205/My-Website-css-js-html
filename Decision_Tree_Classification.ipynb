{
  "nbformat": 4,
  "nbformat_minor": 0,
  "metadata": {
    "colab": {
      "provenance": [],
      "authorship_tag": "ABX9TyNZVQaQLOL5XS5Oo9u019VV",
      "include_colab_link": true
    },
    "kernelspec": {
      "name": "python3",
      "display_name": "Python 3"
    },
    "language_info": {
      "name": "python"
    }
  },
  "cells": [
    {
      "cell_type": "markdown",
      "metadata": {
        "id": "view-in-github",
        "colab_type": "text"
      },
      "source": [
        "<a href=\"https://colab.research.google.com/github/ConnorM1205/My-Website-css-js-html/blob/main/Decision_Tree_Classification.ipynb\" target=\"_parent\"><img src=\"https://colab.research.google.com/assets/colab-badge.svg\" alt=\"Open In Colab\"/></a>"
      ]
    },
    {
      "cell_type": "code",
      "execution_count": 19,
      "metadata": {
        "id": "XR33NeYDR7RQ"
      },
      "outputs": [],
      "source": [
        "from sklearn.datasets import load_iris\n",
        "from sklearn.metrics import classification_report\n",
        "from sklearn.model_selection import GridSearchCV\n",
        "import numpy as np\n",
        "from sklearn import metrics\n",
        "from sklearn.tree import DecisionTreeClassifier\n",
        "from sklearn.model_selection import train_test_split\n",
        "import matplotlib.pyplot as plt"
      ]
    },
    {
      "cell_type": "code",
      "source": [
        "data = load_iris()"
      ],
      "metadata": {
        "id": "AMlGslF8SCNn"
      },
      "execution_count": 20,
      "outputs": []
    },
    {
      "cell_type": "code",
      "source": [
        "X = data.data\n",
        "y = data.target"
      ],
      "metadata": {
        "id": "wEpS3w8_WIw3"
      },
      "execution_count": 21,
      "outputs": []
    },
    {
      "cell_type": "code",
      "source": [
        "X_train_val, X_test, y_train_val, y_test = train_test_split(X, y, test_size=0.2, random_state=42)\n"
      ],
      "metadata": {
        "id": "QUkuCodwWgf9"
      },
      "execution_count": 22,
      "outputs": []
    },
    {
      "cell_type": "code",
      "source": [
        "X_train, X_val, y_train, y_val = train_test_split(X_train_val, y_train_val, test_size=0.25, random_state=42)\n"
      ],
      "metadata": {
        "id": "vhIjf6-7XbU3"
      },
      "execution_count": 23,
      "outputs": []
    },
    {
      "cell_type": "code",
      "source": [
        "clf = DecisionTreeClassifier(criterion='entropy', max_depth=4, random_state=1)\n",
        "clf.fit(X_train, y_train)\n",
        "y_pred = clf.predict(X_val)"
      ],
      "metadata": {
        "id": "PYv6RabiZSYO"
      },
      "execution_count": 28,
      "outputs": []
    },
    {
      "cell_type": "code",
      "source": [
        "print(\"Accuracy:\", metrics.accuracy_score(y_val, y_pred))"
      ],
      "metadata": {
        "colab": {
          "base_uri": "https://localhost:8080/"
        },
        "id": "XtQgzmznaDns",
        "outputId": "c6d03dbf-2ad6-465d-a78f-08ffb5f602a5"
      },
      "execution_count": 29,
      "outputs": [
        {
          "output_type": "stream",
          "name": "stdout",
          "text": [
            "Accuracy: 0.9\n"
          ]
        }
      ]
    },
    {
      "cell_type": "code",
      "source": [
        "y_preds = []\n",
        "for i in range(1,11):\n",
        "    clf = DecisionTreeClassifier(criterion=\"gini\", max_depth=i )\n",
        "    clf.fit(X_train, y_train)\n",
        "    y_preds.append(metrics.accuracy_score(y_val, clf.predict(X_val)))\n",
        "\n",
        "xpoints = np.array([1,2,3,4,5,6,7,8,9,10])\n",
        "ypoints = np.array(y_preds)\n",
        "\n",
        "\n",
        "plt.plot(xpoints, ypoints)\n",
        "plt.title(\"Tree Depth vs Accuracy\")\n",
        "plt.xlabel(\"Tree Depth\")\n",
        "plt.ylabel(\"Accuracy\")\n",
        "plt.show()\n"
      ],
      "metadata": {
        "colab": {
          "base_uri": "https://localhost:8080/",
          "height": 472
        },
        "id": "ZHwE2wb-HzHq",
        "outputId": "f59f3f5f-51a7-410a-f3ea-c1b42e4111e1"
      },
      "execution_count": 30,
      "outputs": [
        {
          "output_type": "display_data",
          "data": {
            "text/plain": [
              "<Figure size 640x480 with 1 Axes>"
            ],
            "image/png": "[encoded data removed]"
          },
          "metadata": {}
        }
      ]
    },
    {
      "cell_type": "code",
      "source": [
        "y_pred = clf.predict(X_test)"
      ],
      "metadata": {
        "id": "yJnSq2nbhZUC"
      },
      "execution_count": 32,
      "outputs": []
    },
    {
      "cell_type": "code",
      "source": [
        "print(\"Accuracy:\", metrics.accuracy_score(y_test,y_pred))"
      ],
      "metadata": {
        "colab": {
          "base_uri": "https://localhost:8080/"
        },
        "id": "aM5eLI7WkRJo",
        "outputId": "59a0e203-b8fa-4d95-cacc-9a36b7c44bdd"
      },
      "execution_count": 33,
      "outputs": [
        {
          "output_type": "stream",
          "name": "stdout",
          "text": [
            "Accuracy: 0.9333333333333333\n"
          ]
        }
      ]
    },
    {
      "cell_type": "code",
      "source": [
        "param_grid = {\n",
        "    'max_depth': range(1, 10, 1),\n",
        "    'min_samples_leaf': range(1, 20, 2),\n",
        "    'min_samples_split': range(2, 20, 2),\n",
        "    'criterion': [\"entropy\", \"gini\"]\n",
        "}\n",
        "# Decision tree classifier\n",
        "tree = DecisionTreeClassifier(random_state=1)\n",
        "# GridSearchCV\n",
        "grid_search = GridSearchCV(estimator=tree, param_grid=param_grid,\n",
        "                           cv=5, verbose=True)\n",
        "grid_search.fit(X_train, y_train)\n",
        "\n",
        "# Best score and estimator\n",
        "print(\"best accuracy\", grid_search.best_score_)\n",
        "print(grid_search.best_estimator_)"
      ],
      "metadata": {
        "colab": {
          "base_uri": "https://localhost:8080/"
        },
        "id": "5SxbvvyWjz_u",
        "outputId": "8fba0057-a456-406c-e7a3-bb72c9a0fa34"
      },
      "execution_count": 27,
      "outputs": [
        {
          "output_type": "stream",
          "name": "stdout",
          "text": [
            "Fitting 5 folds for each of 1620 candidates, totalling 8100 fits\n",
            "best accuracy 0.9222222222222222\n",
            "DecisionTreeClassifier(criterion='entropy', max_depth=4, random_state=1)\n"
          ]
        }
      ]
    }
  ]
}